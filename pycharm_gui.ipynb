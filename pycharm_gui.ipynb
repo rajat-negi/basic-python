{
 "cells": [
  {
   "cell_type": "code",
   "execution_count": 24,
   "metadata": {},
   "outputs": [],
   "source": [
    "#frames\n",
    "from tkinter import *\n",
    "root=Tk()\n",
    "root.geometry(\"400x400\")\n",
    "f1=Frame(root,borderwidth=9,bg=\"blue\",padx=50,relief=SUNKEN)\n",
    "f1.pack(side=TOP,fill=\"x\")\n",
    "f2=Frame(root,borderwidth=10,bg=\"red\",pady=40,relief=SUNKEN)\n",
    "f2.pack(side=LEFT,fill=\"y\")\n",
    "l1=Label(f1,text=\"hello l1\")\n",
    "l1.pack(pady=100)\n",
    "l2=Label(f2,text=\"hello l2\").pack()\n",
    "\n",
    "root.mainloop()"
   ]
  },
  {
   "cell_type": "code",
   "execution_count": 43,
   "metadata": {},
   "outputs": [
    {
     "name": "stdout",
     "output_type": "stream",
     "text": [
      "hello there\n",
      "hello there\n",
      "hello there\n",
      "hello there\n"
     ]
    }
   ],
   "source": [
    "#buttons\n",
    "from tkinter import *\n",
    "root=Tk()\n",
    "root.geometry(\"600x400\")\n",
    "def example():\n",
    "    print(\"hello there\")\n",
    "f1=Frame(root,bg=\"green\",borderwidth=9,relief=SUNKEN)\n",
    "f1.pack(side=TOP,anchor=\"nw\",fill=\"x\")\n",
    "b1=Button(f1,command=example,text=\"submit\",bg=\"red\").pack(side=LEFT,padx=20)\n",
    "b2=Button(f1,command=example,text=\"submit\",bg=\"blue\").pack(side=LEFT,padx=20)\n",
    "b3=Button(f1,command=example,text=\"submit\",bg=\"yellow\").pack(side=LEFT,padx=20)\n",
    "b4=Button(f1,command=example,text=\"submit\",bg=\"purple\").pack(side=LEFT,padx=20)\n",
    "\n",
    "\n",
    "\n",
    "\n",
    "\n",
    "root.mainloop()\n"
   ]
  },
  {
   "cell_type": "code",
   "execution_count": null,
   "metadata": {},
   "outputs": [],
   "source": []
  },
  {
   "cell_type": "code",
   "execution_count": null,
   "metadata": {},
   "outputs": [],
   "source": []
  },
  {
   "cell_type": "code",
   "execution_count": 144,
   "metadata": {},
   "outputs": [
    {
     "name": "stdout",
     "output_type": "stream",
     "text": [
      "Hello tkinter Buttons\n",
      "Name is Nandesh\n"
     ]
    }
   ],
   "source": [
    "\n",
    "from tkinter import *\n",
    "\n",
    "root =Tk()\n",
    "root.geometry(\"655x333\")\n",
    "\n",
    "\n",
    "def hello():\n",
    "    print(\"Hello tkinter Buttons\")\n",
    "\n",
    "def name():\n",
    "    print(\"Name is Nandesh\")\n",
    "\n",
    "frame = Frame(root, borderwidth=6, bg=\"grey\", relief=SUNKEN)\n",
    "frame.pack(side=LEFT, anchor=\"nw\")\n",
    "\n",
    "\n",
    "b1 = Button(frame, fg=\"red\", text=\"Print now\", command=hello)\n",
    "b1.pack(side=LEFT, padx=103)\n",
    "\n",
    "b2 = Button(frame, fg=\"red\", text=\"Tell me name now\", command=name)\n",
    "b2.pack(side=LEFT, padx=103)\n",
    "\n",
    "b3 = Button(frame, fg=\"red\", text=\"Print now\")\n",
    "b3.pack(side=LEFT, padx=23)\n",
    "\n",
    "b4 = Button(frame, fg=\"red\", text=\"Print now\")\n",
    "b4.pack(side=LEFT, padx=23)\n",
    "\n",
    "root.mainloop()\n"
   ]
  },
  {
   "cell_type": "code",
   "execution_count": 58,
   "metadata": {},
   "outputs": [
    {
     "name": "stdout",
     "output_type": "stream",
     "text": [
      "gwrg\n",
      "gwg\n"
     ]
    }
   ],
   "source": [
    "#grid layout\n",
    "from tkinter import *\n",
    "root=Tk()\n",
    "root.geometry(\"600x400\")\n",
    "\n",
    "def getvals():\n",
    "    print(uservalue.get())\n",
    "    print(passvalue.get())\n",
    "\n",
    "user=Label(root,text=\"username\").grid()\n",
    "password=Label(root,text=\"password\").grid()\n",
    "\n",
    "b=Button(command=getvals,text=\"submit\").grid()\n",
    "\n",
    "uservalue=StringVar()\n",
    "passvalue=StringVar()\n",
    "\n",
    "userentry=Entry(root,textvariable=uservalue).grid(row=0,column=1)\n",
    "passentry=Entry(root,textvariable=passvalue).grid(row=1,column=1)\n",
    "\n",
    "root.mainloop()\n",
    "\n"
   ]
  },
  {
   "cell_type": "code",
   "execution_count": 15,
   "metadata": {},
   "outputs": [
    {
     "name": "stdout",
     "output_type": "stream",
     "text": [
      "order accepted\n"
     ]
    }
   ],
   "source": [
    "#checkbox\n",
    "from tkinter import *\n",
    "root=Tk()\n",
    "root.geometry(\"400x400\")\n",
    "root.title(\"rajat's resturant\")\n",
    "\n",
    "def getval():\n",
    "    print(\"order accepted\")\n",
    "\n",
    "user=Label(root,text=\"username\").grid(row=0,column=1)\n",
    "phone=Label(root,text=\"phone number\").grid(row=1,column=1)\n",
    "pay=Label(root,text=\"payment mode\").grid(row=2,column=1)\n",
    "\n",
    "uservalue=StringVar()\n",
    "phonevalue=StringVar()\n",
    "payvalue=StringVar()\n",
    "foodvalue=IntVar()\n",
    "\n",
    "userentry=Entry(textvariable=uservalue).grid(row=0,column=2)\n",
    "phoneentry=Entry(textvariable=phonevalue).grid(row=1,column=2)\n",
    "payentry=Entry(textvariable=payvalue).grid(row=2,column=2)\n",
    "\n",
    "Checkbutton(text=\"confirm\",variable=foodvalue).grid(row=3,column=2)\n",
    "\n",
    "Button(text=\"submit\",command=getval).grid(row=4,column=1)\n",
    "\n",
    "root.mainloop()"
   ]
  },
  {
   "cell_type": "code",
   "execution_count": 143,
   "metadata": {},
   "outputs": [
    {
     "name": "stdout",
     "output_type": "stream",
     "text": [
      "order accepted\n",
      "('dfds', 'fafc', 'fafaf', 1)\n"
     ]
    }
   ],
   "source": [
    "#accepting input\n",
    "from tkinter import *\n",
    "root=Tk()\n",
    "root.geometry(\"400x400\")\n",
    "root.title(\"rajat's resturant\")\n",
    "\n",
    "def getval():\n",
    "    print(\"order accepted\")\n",
    "    print(f\"{uservalue.get(),phonevalue.get(),payvalue.get(),foodvalue.get()}\")\n",
    "    \n",
    "    with open(\"record.txt\",\"a\") as f:\n",
    "        f.write(f\"{uservalue.get(),phonevalue.get(),payvalue.get(),foodvalue.get()}\")\n",
    "\n",
    "user=Label(root,text=\"username\").grid(row=0,column=1)\n",
    "phone=Label(root,text=\"phone number\").grid(row=1,column=1)\n",
    "pay=Label(root,text=\"payment mode\").grid(row=2,column=1)\n",
    "\n",
    "uservalue=StringVar()\n",
    "phonevalue=StringVar()\n",
    "payvalue=StringVar()\n",
    "foodvalue=IntVar()\n",
    "\n",
    "userentry=Entry(textvariable=uservalue).grid(row=0,column=2)\n",
    "phoneentry=Entry(textvariable=phonevalue).grid(row=1,column=2)\n",
    "payentry=Entry(textvariable=payvalue).grid(row=2,column=2)\n",
    "\n",
    "Checkbutton(text=\"confirm\",variable=foodvalue).grid(row=3,column=2)\n",
    "\n",
    "Button(text=\"submit\",command=getval).grid(row=4,column=1)\n",
    "\n",
    "root.mainloop()"
   ]
  },
  {
   "cell_type": "code",
   "execution_count": null,
   "metadata": {},
   "outputs": [
    {
     "name": "stdout",
     "output_type": "stream",
     "text": [
      "u clicked the button at20 and 14\n",
      "u clicked the button at24 and 8\n",
      "u clicked the button at20 and 18\n",
      "u clicked the button at26 and 18\n"
     ]
    }
   ],
   "source": [
    "#handling event\n",
    "from tkinter import *\n",
    "root=Tk()\n",
    "root.geometry(\"400x400\")\n",
    "\n",
    "def click(event):\n",
    "    print(f\"u clicked the button at{event.x} and {event.y}\")\n",
    "\n",
    "b=Button(text=\"submit\")\n",
    "b.pack()\n",
    "\n",
    "b.bind('<Button-1>',click)\n",
    "b.bind('<Double-1>',quit)\n",
    "\n",
    "\n",
    "root.mainloop()"
   ]
  },
  {
   "cell_type": "code",
   "execution_count": 141,
   "metadata": {},
   "outputs": [],
   "source": [
    "#canvas\n",
    "import tkinter\n",
    "root=Tk()\n",
    "can_length=500\n",
    "can_width=500\n",
    "root.geometry(f\"{can_length}x{can_width}\")\n",
    "\n",
    "canv=Canvas(root,height=can_length,width=can_width)\n",
    "canv.pack()\n",
    "\n",
    "canv.create_line(0,0,500,500,fill=\"red\")\n",
    "canv.create_line(0,500,500,0,fill=\"blue\")\n",
    "\n",
    "canv.create_rectangle(100,100,400,400,fill=\"yellow\")\n",
    "\n",
    "canv.create_oval(100,100,400,400,fill=\"red\")\n",
    "\n",
    "canv.create_text(250,250,text=\"rajat\")\n",
    "\n",
    "root.mainloop()"
   ]
  },
  {
   "cell_type": "code",
   "execution_count": 135,
   "metadata": {},
   "outputs": [],
   "source": []
  },
  {
   "cell_type": "code",
   "execution_count": null,
   "metadata": {},
   "outputs": [],
   "source": []
  }
 ],
 "metadata": {
  "kernelspec": {
   "display_name": "Python 3",
   "language": "python",
   "name": "python3"
  },
  "language_info": {
   "codemirror_mode": {
    "name": "ipython",
    "version": 3
   },
   "file_extension": ".py",
   "mimetype": "text/x-python",
   "name": "python",
   "nbconvert_exporter": "python",
   "pygments_lexer": "ipython3",
   "version": "3.7.4"
  }
 },
 "nbformat": 4,
 "nbformat_minor": 2
}
