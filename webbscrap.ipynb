{
 "cells": [
  {
   "cell_type": "code",
   "execution_count": 87,
   "metadata": {},
   "outputs": [],
   "source": [
    "import requests\n",
    "from bs4 import BeautifulSoup\n",
    "import csv\n",
    "import pandas as pd\n",
    "import io"
   ]
  },
  {
   "cell_type": "code",
   "execution_count": 2,
   "metadata": {},
   "outputs": [],
   "source": [
    "url=\"https://idrw.org/\""
   ]
  },
  {
   "cell_type": "code",
   "execution_count": 3,
   "metadata": {},
   "outputs": [],
   "source": [
    "r=requests.get(url)"
   ]
  },
  {
   "cell_type": "code",
   "execution_count": 5,
   "metadata": {},
   "outputs": [],
   "source": [
    "# r.text"
   ]
  },
  {
   "cell_type": "code",
   "execution_count": 6,
   "metadata": {},
   "outputs": [],
   "source": [
    "soup=BeautifulSoup(r.text,\"html5lib\")"
   ]
  },
  {
   "cell_type": "code",
   "execution_count": 8,
   "metadata": {},
   "outputs": [],
   "source": [
    "# soup"
   ]
  },
  {
   "cell_type": "code",
   "execution_count": 30,
   "metadata": {},
   "outputs": [],
   "source": [
    "heading=soup.findAll(\"h2\",{'class':\"art-postheader entry-title\"})"
   ]
  },
  {
   "cell_type": "code",
   "execution_count": 77,
   "metadata": {},
   "outputs": [],
   "source": [
    "date=soup.findAll(\"span\",{'class':\"entry-date updated\"})"
   ]
  },
  {
   "cell_type": "code",
   "execution_count": 41,
   "metadata": {},
   "outputs": [],
   "source": [
    "data=soup.findAll(\"div\",{'class':\"art-postcontent clearfix\"})"
   ]
  },
  {
   "cell_type": "code",
   "execution_count": 79,
   "metadata": {},
   "outputs": [],
   "source": [
    "data1=soup.findAll(\"div\",{'class':\"art-postcontent clearfix\"})"
   ]
  },
  {
   "cell_type": "code",
   "execution_count": 97,
   "metadata": {},
   "outputs": [
    {
     "name": "stdout",
     "output_type": "stream",
     "text": [
      "SOURCE: INDIA TODAY Speaking at the E-Agenda Aaj Tak, former Army chief and Minister of State (MoS) for Road Transport and Highways VK Singh said that the entire Kashmir belongs to India. He said even PoK (Pakistan-occupied-Kashmir) is our part and asserted that it will come to India on its own. Talking about elections in Gilgit-Baltistan, General VK Singh said, “Pakistan’s rulers are not even able to manage their country, their army is deciding what to do to the people. In this situation, the people there are trying to do something so that the world stands with them. The Minister of State for Road Transport and Highways further said that he does not think anyone will stand with Pakistan. “The way India is taking the entire world together and by Prime Minister Narendra Modi’s image in the global sphere, we will definitely benefit and get what we want in the end,” VK Singh said. Continue reading →\n"
     ]
    }
   ],
   "source": [
    "print(\" \".join(data1[1].text.split()))"
   ]
  },
  {
   "cell_type": "code",
   "execution_count": 85,
   "metadata": {},
   "outputs": [
    {
     "data": {
      "text/plain": [
       "'Plan ready, army will take action when time comes: VK Singh on Gilgit-Baltistan'"
      ]
     },
     "execution_count": 85,
     "metadata": {},
     "output_type": "execute_result"
    }
   ],
   "source": [
    "heading[0].text.strip()"
   ]
  },
  {
   "cell_type": "code",
   "execution_count": 63,
   "metadata": {},
   "outputs": [
    {
     "data": {
      "text/plain": [
       "[]"
      ]
     },
     "execution_count": 63,
     "metadata": {},
     "output_type": "execute_result"
    }
   ],
   "source": [
    "date"
   ]
  },
  {
   "cell_type": "code",
   "execution_count": 86,
   "metadata": {},
   "outputs": [],
   "source": [
    "lis=[]\n",
    "for i in range(15):\n",
    "    h=heading[i].text.strip()\n",
    "    d=date[i].text.strip()\n",
    "    da=data[i].text.strip()\n",
    "    li=[h,d,da]\n",
    "    lis.append(li)"
   ]
  },
  {
   "cell_type": "code",
   "execution_count": 89,
   "metadata": {},
   "outputs": [],
   "source": [
    "with open('idrw.csv', 'w', newline='',encoding=\"utf-8\") as file:\n",
    "    writer = csv.writer(file)\n",
    "    writer.writerow([\"Title\",\"Date\",\"Content\"])\n",
    "    \n",
    "    \n",
    "    writer.writerows(lis)"
   ]
  },
  {
   "cell_type": "code",
   "execution_count": 90,
   "metadata": {},
   "outputs": [
    {
     "data": {
      "text/html": [
       "<div>\n",
       "<style scoped>\n",
       "    .dataframe tbody tr th:only-of-type {\n",
       "        vertical-align: middle;\n",
       "    }\n",
       "\n",
       "    .dataframe tbody tr th {\n",
       "        vertical-align: top;\n",
       "    }\n",
       "\n",
       "    .dataframe thead th {\n",
       "        text-align: right;\n",
       "    }\n",
       "</style>\n",
       "<table border=\"1\" class=\"dataframe\">\n",
       "  <thead>\n",
       "    <tr style=\"text-align: right;\">\n",
       "      <th></th>\n",
       "      <th>Title</th>\n",
       "      <th>Date</th>\n",
       "      <th>Content</th>\n",
       "    </tr>\n",
       "  </thead>\n",
       "  <tbody>\n",
       "    <tr>\n",
       "      <th>0</th>\n",
       "      <td>Plan ready, army will take action when time co...</td>\n",
       "      <td>May 10, 2020</td>\n",
       "      <td>(adsbygoogle = window.adsbygoogle || []).push(...</td>\n",
       "    </tr>\n",
       "    <tr>\n",
       "      <th>1</th>\n",
       "      <td>Latest Hizbul chief’s video contradicts Pakist...</td>\n",
       "      <td>May 10, 2020</td>\n",
       "      <td>SOURCE: INDIA TODAY\\n\\nSpeaking at the E-Agend...</td>\n",
       "    </tr>\n",
       "    <tr>\n",
       "      <th>2</th>\n",
       "      <td>Ajit Doval dissects Imran Khan’s terror moves ...</td>\n",
       "      <td>May 10, 2020</td>\n",
       "      <td>SOURCE: ANI\\n\\nIn a recent video from Pakistan...</td>\n",
       "    </tr>\n",
       "    <tr>\n",
       "      <th>3</th>\n",
       "      <td>Relief reaches Naga extremists</td>\n",
       "      <td>May 10, 2020</td>\n",
       "      <td>SOURCE: HT\\n\\nNational Security Adviser Ajit D...</td>\n",
       "    </tr>\n",
       "    <tr>\n",
       "      <th>4</th>\n",
       "      <td>India, China face off along Sikkim border</td>\n",
       "      <td>May 10, 2020</td>\n",
       "      <td>SOURCE: THE HINDU\\n\\nLocals in Manipur’s Senap...</td>\n",
       "    </tr>\n",
       "  </tbody>\n",
       "</table>\n",
       "</div>"
      ],
      "text/plain": [
       "                                               Title          Date  \\\n",
       "0  Plan ready, army will take action when time co...  May 10, 2020   \n",
       "1  Latest Hizbul chief’s video contradicts Pakist...  May 10, 2020   \n",
       "2  Ajit Doval dissects Imran Khan’s terror moves ...  May 10, 2020   \n",
       "3                     Relief reaches Naga extremists  May 10, 2020   \n",
       "4          India, China face off along Sikkim border  May 10, 2020   \n",
       "\n",
       "                                             Content  \n",
       "0  (adsbygoogle = window.adsbygoogle || []).push(...  \n",
       "1  SOURCE: INDIA TODAY\\n\\nSpeaking at the E-Agend...  \n",
       "2  SOURCE: ANI\\n\\nIn a recent video from Pakistan...  \n",
       "3  SOURCE: HT\\n\\nNational Security Adviser Ajit D...  \n",
       "4  SOURCE: THE HINDU\\n\\nLocals in Manipur’s Senap...  "
      ]
     },
     "execution_count": 90,
     "metadata": {},
     "output_type": "execute_result"
    }
   ],
   "source": [
    "df = pd.read_csv('idrw.csv')\n",
    "df.head()"
   ]
  },
  {
   "cell_type": "code",
   "execution_count": null,
   "metadata": {},
   "outputs": [],
   "source": []
  }
 ],
 "metadata": {
  "kernelspec": {
   "display_name": "Python 3",
   "language": "python",
   "name": "python3"
  },
  "language_info": {
   "codemirror_mode": {
    "name": "ipython",
    "version": 3
   },
   "file_extension": ".py",
   "mimetype": "text/x-python",
   "name": "python",
   "nbconvert_exporter": "python",
   "pygments_lexer": "ipython3",
   "version": "3.7.6"
  }
 },
 "nbformat": 4,
 "nbformat_minor": 4
}
