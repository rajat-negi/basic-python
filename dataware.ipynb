{
 "cells": [
  {
   "cell_type": "code",
   "execution_count": 3,
   "metadata": {},
   "outputs": [
    {
     "name": "stdout",
     "output_type": "stream",
     "text": [
      "connected\n",
      "closed\n"
     ]
    }
   ],
   "source": [
    "#intro to databases\n",
    "import sqlite3\n",
    "conn=sqlite3.connect(\"my_db.db\")\n",
    "print(\"connected\")\n",
    "conn.close()\n",
    "print(\"closed\")"
   ]
  },
  {
   "cell_type": "code",
   "execution_count": 5,
   "metadata": {},
   "outputs": [
    {
     "name": "stdout",
     "output_type": "stream",
     "text": [
      "table created\n",
      "database closed\n"
     ]
    }
   ],
   "source": [
    "#creating table\n",
    "import sqlite3\n",
    "conn=sqlite3.connect(\"my_db.db\")\n",
    "conn.execute('''CREATE TABLE Employee_Records(ID INT PRIMARY KEY NOT NULL,NAME TEXT NOT NULL,DIVISION TEXT NOT NULL,RATING INT NOT NULL)''')\n",
    "print(\"table created\")\n",
    "conn.close()\n",
    "print(\"database closed\")"
   ]
  },
  {
   "cell_type": "code",
   "execution_count": 8,
   "metadata": {},
   "outputs": [
    {
     "name": "stdout",
     "output_type": "stream",
     "text": [
      "data added\n",
      "database closed\n"
     ]
    }
   ],
   "source": [
    "#inserting in a database\n",
    "import sqlite3\n",
    "conn=sqlite3.connect(\"my_db.db\")\n",
    "\n",
    "conn.execute('''INSERT INTO Employee_Records(ID,NAME,DIVISION,RATING)Values(2,\"ankit\",\"DS\",4)''')\n",
    "conn.execute('''INSERT INTO Employee_Records(ID,NAME,DIVISION,RATING)Values(3,\"kshitiz\",\"DS\",3)''')\n",
    "conn.execute('''INSERT INTO Employee_Records(ID,NAME,DIVISION,RATING)Values(4,\"akshay\",\"DS\",2)''')\n",
    "\n",
    "conn.commit()\n",
    "print(\"data added\")\n",
    "conn.close()\n",
    "print(\"database closed\")"
   ]
  },
  {
   "cell_type": "code",
   "execution_count": 10,
   "metadata": {},
   "outputs": [
    {
     "name": "stdout",
     "output_type": "stream",
     "text": [
      "record deleted\n",
      "database closed\n"
     ]
    }
   ],
   "source": [
    "#deleting a record from db\n",
    "import sqlite3\n",
    "conn=sqlite3.connect(\"my_db.db\")\n",
    "conn.execute('''DELETE FROM Employee_Records where ID=4''')\n",
    "conn.commit()\n",
    "print(\"record deleted\")\n",
    "conn.close()\n",
    "print(\"database closed\")"
   ]
  },
  {
   "cell_type": "code",
   "execution_count": 12,
   "metadata": {},
   "outputs": [
    {
     "name": "stdout",
     "output_type": "stream",
     "text": [
      "record deleted\n",
      "database closed\n"
     ]
    }
   ],
   "source": [
    "#deleting using a function\n",
    "import sqlite3\n",
    "conn=sqlite3.connect(\"my_db.db\")\n",
    "def delete():\n",
    "    conn.execute('''DELETE FROM Employee_Records where ID=3''')\n",
    "    conn.commit()\n",
    "    print(\"record deleted\")\n",
    "delete()\n",
    "conn.close()\n",
    "print(\"database closed\")"
   ]
  },
  {
   "cell_type": "code",
   "execution_count": 15,
   "metadata": {},
   "outputs": [
    {
     "name": "stdout",
     "output_type": "stream",
     "text": [
      "record inserted\n",
      "database closed\n"
     ]
    }
   ],
   "source": [
    "#inserting using a function\n",
    "import sqlite3\n",
    "conn=sqlite3.connect(\"my_db.db\")\n",
    "def insert(ID,NAME,DIVISION,RATING):\n",
    "    conn.execute('''INSERT INTO Employee_Records(ID,NAME,DIVISION,RATING)VALUES(?,?,?,?)''',(ID,NAME,DIVISION,RATING))\n",
    "    conn.commit()\n",
    "    print(\"record inserted\")\n",
    "insert(3,\"kshitiz\",\"project manager\",4)\n",
    "conn.close()\n",
    "print(\"database closed\")"
   ]
  },
  {
   "cell_type": "code",
   "execution_count": 19,
   "metadata": {},
   "outputs": [
    {
     "name": "stdout",
     "output_type": "stream",
     "text": [
      "id: 1\n",
      "NAME: rajat\n",
      "DIVISION: DS\n",
      "RATING: 5\n",
      "\n",
      "\n",
      "id: 2\n",
      "NAME: ankit\n",
      "DIVISION: DS\n",
      "RATING: 4\n",
      "\n",
      "\n",
      "id: 3\n",
      "NAME: kshitiz\n",
      "DIVISION: project manager\n",
      "RATING: 4\n",
      "\n",
      "\n",
      "database closed\n"
     ]
    }
   ],
   "source": [
    "#reading data from database\n",
    "import sqlite3\n",
    "conn=sqlite3.connect(\"my_db.db\")\n",
    "def read():\n",
    "    fetch=conn.execute('''SELECT ID,NAME,DIVISION,RATING FROM Employee_Records''')\n",
    "    for records in fetch:\n",
    "        print(\"id:\",records[0])\n",
    "        print(\"NAME:\",records[1])\n",
    "        print(\"DIVISION:\",records[2])\n",
    "        print(\"RATING:\",records[3])\n",
    "        print(\"\\n\")\n",
    "read()\n",
    "conn.close()\n",
    "print(\"database closed\")"
   ]
  },
  {
   "cell_type": "code",
   "execution_count": 21,
   "metadata": {},
   "outputs": [
    {
     "name": "stdout",
     "output_type": "stream",
     "text": [
      "record updated\n",
      "database closed\n"
     ]
    }
   ],
   "source": [
    "#updating data in a database\n",
    "import sqlite3\n",
    "conn=sqlite3.connect(\"my_db.db\")\n",
    "def update():\n",
    "    conn.execute('''UPDATE Employee_Records SET DIVISION=\"B.A.T\" WHERE ID=3''')\n",
    "    conn.commit()\n",
    "    print(\"record updated\")\n",
    "update()\n",
    "conn.close()\n",
    "print(\"database closed\")"
   ]
  },
  {
   "cell_type": "code",
   "execution_count": null,
   "metadata": {},
   "outputs": [],
   "source": []
  }
 ],
 "metadata": {
  "kernelspec": {
   "display_name": "Python 3",
   "language": "python",
   "name": "python3"
  },
  "language_info": {
   "codemirror_mode": {
    "name": "ipython",
    "version": 3
   },
   "file_extension": ".py",
   "mimetype": "text/x-python",
   "name": "python",
   "nbconvert_exporter": "python",
   "pygments_lexer": "ipython3",
   "version": "3.7.4"
  }
 },
 "nbformat": 4,
 "nbformat_minor": 2
}
